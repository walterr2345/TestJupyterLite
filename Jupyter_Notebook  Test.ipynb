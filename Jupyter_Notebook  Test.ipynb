{
  "metadata": {
    "kernelspec": {
      "name": "python",
      "display_name": "Python (Pyodide)",
      "language": "python"
    },
    "language_info": {
      "codemirror_mode": {
        "name": "python",
        "version": 3
      },
      "file_extension": ".py",
      "mimetype": "text/x-python",
      "name": "python",
      "nbconvert_exporter": "python",
      "pygments_lexer": "ipython3",
      "version": "3.8"
    },
    "prev_pub_hash": "9e1985db9844176462bd1d5863048c9f3d17404bbc6a648be9084b0c42b29347"
  },
  "nbformat_minor": 4,
  "nbformat": 4,
  "cells": [
    {
      "cell_type": "markdown",
      "source": "<center>\n    <img src=\"https://cf-courses-data.s3.us.cloud-object-storage.appdomain.cloud/IBMDeveloperSkillsNetwork-DS0105EN-SkillsNetwork/labs/Module2/images/SN_web_lightmode.png\" width=\"300\" alt=\"cognitiveclass.ai logo\">\n</center>\n",
      "metadata": {}
    },
    {
      "cell_type": "markdown",
      "source": "# Hands-on Lab: Create your Jupyter Notebook\n",
      "metadata": {}
    },
    {
      "cell_type": "markdown",
      "source": "#### Add your code below following the instructions given in the course\n",
      "metadata": {}
    },
    {
      "cell_type": "markdown",
      "source": "# Exercise 2\n# Notebook of Jupyter",
      "metadata": {}
    },
    {
      "cell_type": "markdown",
      "source": "# Exercise 3\n## Introduccion",
      "metadata": {}
    },
    {
      "cell_type": "markdown",
      "source": "# Exercise 4\n### Languajes for data science\n- Python\n- R\n- SQL",
      "metadata": {}
    },
    {
      "cell_type": "markdown",
      "source": "# Exercise 5\n### Libraries\n\n#### Python\n- Pandas\n- NumPy\n- TensorFlow\n#### R\n- ggplot2\n- caret\n- dplyr\n#### SQL\n- PostgresSQL\n- MySQL",
      "metadata": {}
    },
    {
      "cell_type": "markdown",
      "source": "# Exercise 6\n### Table of Tools \n\n| Category | Tool |\n| -------------| ------ |\n| Programming Language | Python, R, SQL |\n| Data Manipulation | Pandas, dplyr,NumPy |\n| Data Visualization | Matplotlib, ggplot2 |\n| Big Data | Apache Spark,| Hadoop |\n| Deep Learning | TensorFlow, PyTorch |\n| Version Control| Gti, GitHub|\n| Notebooks | Jupyter, Google Colab|\n\n",
      "metadata": {}
    },
    {
      "cell_type": "markdown",
      "source": "# Exercise 7\nAritmethics Expresions\n\n- **Addition (`+`)**\n- **Substraction (`-`)**\n- **Multiplication (`*`)**\n- **Division (`/`)**\n- **Exponetiation (`**`)**\n\n",
      "metadata": {}
    },
    {
      "cell_type": "code",
      "source": "# Exercise 8\nsum = 25+25*25-25\nprint (sum) \nmult = 5*5+ 5**2\nprint (mult)",
      "metadata": {
        "trusted": true
      },
      "outputs": [
        {
          "name": "stdout",
          "text": "625\n50\n",
          "output_type": "stream"
        }
      ],
      "execution_count": 11
    },
    {
      "cell_type": "code",
      "source": "# Exercise 9\ndef convert(min):\n    hours= min //60\n    min_remaing = min % 60\n    convert = f\"{hours} Hours with {min_remaing} minutes\"\n    return convert\n\nprint (convert(135))\n\n",
      "metadata": {
        "trusted": true
      },
      "outputs": [
        {
          "name": "stdout",
          "text": "2 Hours with 15 minutes\n",
          "output_type": "stream"
        }
      ],
      "execution_count": 15
    },
    {
      "cell_type": "markdown",
      "source": "# Exercise 10\n- Learn Jupiter\n- Learn DataScience\n- Learn Machine Learning\n- Make projects\n- Find projects of Machile Learning \n- Find a better job in the area of Machine Learning",
      "metadata": {}
    },
    {
      "cell_type": "markdown",
      "source": "# Exercise 11\n### **Walter Rojas Montan**",
      "metadata": {}
    },
    {
      "cell_type": "markdown",
      "source": "# Exercise 12\n\n[Gihub url](https://github.com/walterr2345/TestJupyterLite) \n",
      "metadata": {}
    },
    {
      "cell_type": "markdown",
      "source": "Copyright ©2024 IBM Corporation. All rights reserved.\n",
      "metadata": {}
    }
  ]
}